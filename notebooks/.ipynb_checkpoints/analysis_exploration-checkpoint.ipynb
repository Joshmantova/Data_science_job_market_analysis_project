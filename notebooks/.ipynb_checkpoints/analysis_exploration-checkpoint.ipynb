{
 "cells": [
  {
   "cell_type": "code",
   "execution_count": 47,
   "metadata": {},
   "outputs": [],
   "source": [
    "import pandas as pd\n",
    "import numpy as np\n",
    "import matplotlib.pyplot as plt\n",
    "\n",
    "plt.style.use('fivethirtyeight')"
   ]
  },
  {
   "cell_type": "code",
   "execution_count": 10,
   "metadata": {},
   "outputs": [],
   "source": [
    "df_CA = pd.read_csv('../Datasets/df_CA.csv', index_col=0)"
   ]
  },
  {
   "cell_type": "code",
   "execution_count": 11,
   "metadata": {},
   "outputs": [
    {
     "data": {
      "text/html": [
       "<div>\n",
       "<style scoped>\n",
       "    .dataframe tbody tr th:only-of-type {\n",
       "        vertical-align: middle;\n",
       "    }\n",
       "\n",
       "    .dataframe tbody tr th {\n",
       "        vertical-align: top;\n",
       "    }\n",
       "\n",
       "    .dataframe thead th {\n",
       "        text-align: right;\n",
       "    }\n",
       "</style>\n",
       "<table border=\"1\" class=\"dataframe\">\n",
       "  <thead>\n",
       "    <tr style=\"text-align: right;\">\n",
       "      <th></th>\n",
       "      <th>Companies</th>\n",
       "      <th>Jobs</th>\n",
       "      <th>Locations</th>\n",
       "      <th>Easy_Apply</th>\n",
       "      <th>Rating</th>\n",
       "      <th>Summary</th>\n",
       "    </tr>\n",
       "  </thead>\n",
       "  <tbody>\n",
       "    <tr>\n",
       "      <td>0</td>\n",
       "      <td>Triplebyte</td>\n",
       "      <td>Machine Learning Engineer</td>\n",
       "      <td>San Francisco Bay Area, CA</td>\n",
       "      <td>Easy Apply</td>\n",
       "      <td>NaN</td>\n",
       "      <td>NaN</td>\n",
       "    </tr>\n",
       "    <tr>\n",
       "      <td>1</td>\n",
       "      <td>Just Auto Insurance</td>\n",
       "      <td>Senior Data Scientist</td>\n",
       "      <td>Los Angeles, CA</td>\n",
       "      <td>Easy Apply</td>\n",
       "      <td>3.3</td>\n",
       "      <td>NaN</td>\n",
       "    </tr>\n",
       "    <tr>\n",
       "      <td>2</td>\n",
       "      <td>Neurocrine Biosciences</td>\n",
       "      <td>Research Informatics Data Scientist</td>\n",
       "      <td>San Diego, CA</td>\n",
       "      <td>Not Easy Apply</td>\n",
       "      <td>3.3</td>\n",
       "      <td>NaN</td>\n",
       "    </tr>\n",
       "    <tr>\n",
       "      <td>3</td>\n",
       "      <td>TGS Management Company, LLC</td>\n",
       "      <td>Data Center Engineer (Mechanical)</td>\n",
       "      <td>Irvine, CA</td>\n",
       "      <td>Easy Apply</td>\n",
       "      <td>NaN</td>\n",
       "      <td>NaN</td>\n",
       "    </tr>\n",
       "    <tr>\n",
       "      <td>4</td>\n",
       "      <td>Big Fish Games</td>\n",
       "      <td>Data Science Manager</td>\n",
       "      <td>Oakland, CA</td>\n",
       "      <td>Not Easy Apply</td>\n",
       "      <td>3.6</td>\n",
       "      <td>NaN</td>\n",
       "    </tr>\n",
       "    <tr>\n",
       "      <td>...</td>\n",
       "      <td>...</td>\n",
       "      <td>...</td>\n",
       "      <td>...</td>\n",
       "      <td>...</td>\n",
       "      <td>...</td>\n",
       "      <td>...</td>\n",
       "    </tr>\n",
       "    <tr>\n",
       "      <td>1163</td>\n",
       "      <td>TGS Management Company, LLC</td>\n",
       "      <td>Data Center Engineer (Mechanical)</td>\n",
       "      <td>Irvine, CA</td>\n",
       "      <td>Easy Apply</td>\n",
       "      <td>NaN</td>\n",
       "      <td>Data Center Experience: 4 years (Required). C...</td>\n",
       "    </tr>\n",
       "    <tr>\n",
       "      <td>1164</td>\n",
       "      <td>Disney Streaming Services</td>\n",
       "      <td>Data Scientist - Disney+</td>\n",
       "      <td>Glendale, CA</td>\n",
       "      <td>Not Easy Apply</td>\n",
       "      <td>3.2</td>\n",
       "      <td>Work with other data teams to improve platfor...</td>\n",
       "    </tr>\n",
       "    <tr>\n",
       "      <td>1165</td>\n",
       "      <td>Wipro</td>\n",
       "      <td>Data Engineer</td>\n",
       "      <td>Sunnyvale, CA</td>\n",
       "      <td>Easy Apply</td>\n",
       "      <td>3.8</td>\n",
       "      <td>Experience publishing RESTful API’s to enable...</td>\n",
       "    </tr>\n",
       "    <tr>\n",
       "      <td>1166</td>\n",
       "      <td>Just Auto Insurance</td>\n",
       "      <td>Senior Data Scientist</td>\n",
       "      <td>Los Angeles, CA</td>\n",
       "      <td>Easy Apply</td>\n",
       "      <td>3.3</td>\n",
       "      <td>Masters in Data Science, Computer Science or ...</td>\n",
       "    </tr>\n",
       "    <tr>\n",
       "      <td>1167</td>\n",
       "      <td>Triplebyte</td>\n",
       "      <td>Machine Learning Engineer</td>\n",
       "      <td>San Francisco Bay Area, CA</td>\n",
       "      <td>Easy Apply</td>\n",
       "      <td>NaN</td>\n",
       "      <td>For any company building software, this is cr...</td>\n",
       "    </tr>\n",
       "  </tbody>\n",
       "</table>\n",
       "<p>1168 rows × 6 columns</p>\n",
       "</div>"
      ],
      "text/plain": [
       "                        Companies                                 Jobs  \\\n",
       "0                      Triplebyte            Machine Learning Engineer   \n",
       "1             Just Auto Insurance                Senior Data Scientist   \n",
       "2          Neurocrine Biosciences  Research Informatics Data Scientist   \n",
       "3     TGS Management Company, LLC    Data Center Engineer (Mechanical)   \n",
       "4                  Big Fish Games                 Data Science Manager   \n",
       "...                           ...                                  ...   \n",
       "1163  TGS Management Company, LLC    Data Center Engineer (Mechanical)   \n",
       "1164    Disney Streaming Services             Data Scientist - Disney+   \n",
       "1165                        Wipro                        Data Engineer   \n",
       "1166          Just Auto Insurance                Senior Data Scientist   \n",
       "1167                   Triplebyte            Machine Learning Engineer   \n",
       "\n",
       "                       Locations      Easy_Apply  Rating  \\\n",
       "0     San Francisco Bay Area, CA      Easy Apply     NaN   \n",
       "1                Los Angeles, CA      Easy Apply     3.3   \n",
       "2                  San Diego, CA  Not Easy Apply     3.3   \n",
       "3                     Irvine, CA      Easy Apply     NaN   \n",
       "4                    Oakland, CA  Not Easy Apply     3.6   \n",
       "...                          ...             ...     ...   \n",
       "1163                  Irvine, CA      Easy Apply     NaN   \n",
       "1164                Glendale, CA  Not Easy Apply     3.2   \n",
       "1165               Sunnyvale, CA      Easy Apply     3.8   \n",
       "1166             Los Angeles, CA      Easy Apply     3.3   \n",
       "1167  San Francisco Bay Area, CA      Easy Apply     NaN   \n",
       "\n",
       "                                                Summary  \n",
       "0                                                   NaN  \n",
       "1                                                   NaN  \n",
       "2                                                   NaN  \n",
       "3                                                   NaN  \n",
       "4                                                   NaN  \n",
       "...                                                 ...  \n",
       "1163   Data Center Experience: 4 years (Required). C...  \n",
       "1164   Work with other data teams to improve platfor...  \n",
       "1165   Experience publishing RESTful API’s to enable...  \n",
       "1166   Masters in Data Science, Computer Science or ...  \n",
       "1167   For any company building software, this is cr...  \n",
       "\n",
       "[1168 rows x 6 columns]"
      ]
     },
     "execution_count": 11,
     "metadata": {},
     "output_type": "execute_result"
    }
   ],
   "source": [
    "df_CA"
   ]
  },
  {
   "cell_type": "code",
   "execution_count": 41,
   "metadata": {},
   "outputs": [
    {
     "data": {
      "text/plain": [
       "Index(['Wipro', 'COI Pharmaceuticals, Inc.', 'TGS Management Company, LLC',\n",
       "       'Uber', 'Intuit', 'Twitter', 'Disney Streaming Services',\n",
       "       'Neurocrine Biosciences', 'Enhance IT', 'KIPP Foundation',\n",
       "       'Big Fish Games', 'Triplebyte', 'Just Auto Insurance', 'Apple',\n",
       "       'Facebook'],\n",
       "      dtype='object')"
      ]
     },
     "execution_count": 41,
     "metadata": {},
     "output_type": "execute_result"
    }
   ],
   "source": [
    "company_unique = df_CA['Companies'].value_counts().index[:15]\n",
    "company_unique = company_unique[::-1]\n",
    "company_unique"
   ]
  },
  {
   "cell_type": "code",
   "execution_count": 40,
   "metadata": {},
   "outputs": [
    {
     "data": {
      "text/plain": [
       "array([10, 10, 14, 14, 14, 16, 17, 17, 17, 19, 19, 20, 22, 55, 56])"
      ]
     },
     "execution_count": 40,
     "metadata": {},
     "output_type": "execute_result"
    }
   ],
   "source": [
    "company_unique_count = df_CA['Companies'].value_counts().values[:15]\n",
    "company_unique_count = company_unique_count[::-1]\n",
    "company_unique_count"
   ]
  },
  {
   "cell_type": "code",
   "execution_count": 56,
   "metadata": {},
   "outputs": [
    {
     "data": {
      "image/png": "[encoded data removed]",
      "text/plain": [
       "<Figure size 432x288 with 1 Axes>"
      ]
     },
     "metadata": {},
     "output_type": "display_data"
    }
   ],
   "source": [
    "fig, ax = plt.subplots()\n",
    "ax.barh(company_unique, company_unique_count)\n",
    "ax.set_xlabel('Number of jobs each company posted')\n",
    "ax.set_ylabel('Top 15 companies');\n",
    "\n",
    "# plt.tight_layout();"
   ]
  },
  {
   "cell_type": "code",
   "execution_count": null,
   "metadata": {},
   "outputs": [],
   "source": [
    "df_list = ['df_NY.csv', 'df_CA.csv', 'df_UT.csv', 'df_CO.csv', 'df_WA.csv', 'df_FL.csv']"
   ]
  }
 ],
 "metadata": {
  "kernelspec": {
   "display_name": "Python 3",
   "language": "python",
   "name": "python3"
  },
  "language_info": {
   "codemirror_mode": {
    "name": "ipython",
    "version": 3
   },
   "file_extension": ".py",
   "mimetype": "text/x-python",
   "name": "python",
   "nbconvert_exporter": "python",
   "pygments_lexer": "ipython3",
   "version": "3.7.4"
  }
 },
 "nbformat": 4,
 "nbformat_minor": 2
}
