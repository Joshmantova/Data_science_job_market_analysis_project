{
 "cells": [
  {
   "cell_type": "code",
   "execution_count": 1,
   "metadata": {},
   "outputs": [],
   "source": [
    "import requests\n",
    "from bs4 import BeautifulSoup\n",
    "import pandas as pd"
   ]
  },
  {
   "cell_type": "code",
   "execution_count": 2,
   "metadata": {},
   "outputs": [],
   "source": [
    "URL = 'https://www.indeed.com/jobs?q=data+science&l=CO&limit=50&radius=25&start=50'\n",
    "page = requests.get(URL)"
   ]
  },
  {
   "cell_type": "code",
   "execution_count": 3,
   "metadata": {},
   "outputs": [],
   "source": [
    "soup = BeautifulSoup(page.text, features='lxml')"
   ]
  },
  {
   "cell_type": "code",
   "execution_count": 29,
   "metadata": {},
   "outputs": [
    {
     "data": {
      "text/plain": [
       "[' Troubleshoot basic data and data engineering issues. Develop technical solutions to improve data and data usage. Perform data cleansing and validation.',\n",
       " ' Effectively represent the Data Science group in a collaborative environment to execute on company goals. Data visualization software and tools.',\n",
       " ' Demonstrated knowledge of programming expertise necessary to support data modeling. Demonstrated knowledge of advanced modeling techniques, including data…',\n",
       " ' Data scientists use data and analytical ability to find and interpret rich data sources; manage large amounts of data despite hardware, software, and bandwidth…',\n",
       " ' See the data “forest for the trees” and help identify connections between existing data sets and holes that could be filled by new analytics and data sets.',\n",
       " ' University bachelor’s degree in data science, data analysis, statistics, applied mathematics, computer science, engineering, or any other related discipline;…',\n",
       " \" One (1) year experience in data modeling and analytics. Bachelor's degree in Computer Science, CIS, or related field and Minimum three (3) years experience in…\",\n",
       " ' As a Senior Manager of Data Science you’ll be managing the implemention cutting edge machine learning and high performance computing methodologies at scale.',\n",
       " ' Apply (or grow, if necessary) your other data science knowledge (e.g., programming, machine learning, simulation, algorithms, data visualization) to the…',\n",
       " ' Ensure alignment of Data Science initiatives with Company objectives. Translate data science terminology and opportunities into product requirements.',\n",
       " ' Applied understanding of data science process, ETL, data enrichment, and data discovery processes. Exposure to/ understanding of data architecture, warehouses…',\n",
       " ' Instrumenting data anomalies in production model systems. Our efforts affect every other product in Cortex in an effort to make our users able to understand…',\n",
       " ' You will be responsible for build data science prototypes that optimize our power and thermal infrastructure, working across AWS to solve data mapping and…',\n",
       " ' Operates, inspects, and maintains mechanical and electrical control equipment for Data Center/Commercial HVAC DX & Split systems in assigned facilities to…',\n",
       " ' Collaborate with cross-functional teams, marketing channels, guest experience/insights research, and data science to build a cohesive and actionable customer…',\n",
       " ' Build, monitor, and maintain data ETL pipelines and SQL scripts used to populate data warehouse. Implement systems that validate data, ensure quality and…',\n",
       " ' The Field Operations & Network Implementation data science team identifies operational improvement opportunities to reduce costs and improve customer experience…',\n",
       " ' Perform hands on data research to provide insights and uncover potential data issues. Design and code workflows, create database releases, and optimize…',\n",
       " ' Some experience with Hadoop ecosystem OR cloud vendor data warehouse or data lake technologies. Big Data: 3 years (Required). Big Data Experience – 1+ years.',\n",
       " ' Knowledge of data science tools and concepts. As a data scientist, you can turn these complex data sets into useful information to solve global challenges.',\n",
       " ' Responsible for design analysis, problem solving/trouble shooting, determining and implementing solutions to a variety of challenging data science problems.',\n",
       " ' As a Data Engineer, you will work with customers, Valen team members, and 3rd party data providers, to develop, maintain, and enhance our data engineering…',\n",
       " ' Expertise in R or Python (including importing/exporting data, data wrangling/transformations, model building, and data visualization).',\n",
       " ' As a data engineer, your general responsibilities will include bolting together the core components of our platform that allow us to interact with utility…',\n",
       " ' Interest and desire in the area of data science and machine learning. Crocs is seeking a Senior Data Engineer to develop, test, and maintain data pipelines and…',\n",
       " ' 2+ years Operations Research, Data Scientist or related experience, and an advanced degree in in Operations Research, Data Science, or related disciplines.',\n",
       " ' We are data nerds with marketing souls! Develop engaging and compelling data visualizations. Strong knowledge and application of data literacy.',\n",
       " ' Expert in cloud-based engineering, data science, and agile delivery. Slalom Build is a highly-scalable, high-velocity technology group with a passion for proven…',\n",
       " ' Python Software Engineer ( Data Engineer)-1900192A. BS computer science or related field. Providing thought leadership in the implementation of data pipelines…',\n",
       " ' See the data “forest for the trees” and help identify connections between existing data sets and holes that could be filled by new analytics and data sets.',\n",
       " ' You will interact with business stakeholders, data analysts, and IT resources, working to standardize our data and make this data more easily accessible.',\n",
       " ' Develop and execute detailed data center relocation, consolidation and expansion project plans. Develop detailed data center standards and associated…',\n",
       " ' Basic understanding of Data Center Architecture. Basic understanding of network and data cabling. RFID asset tagging and management of all data center hardware.',\n",
       " ' See the data “forest for the trees” and help identify connections between existing data sets and holes that could be filled by new analytics and data sets.',\n",
       " ' As a member of the Cake Data Science Team you will be responsible for data management tasks including design, development, and data security in a Google Cloud…',\n",
       " ' Postdoctoral Researcher - Data Science for Materials. The Data, Analysis and Visualization Group in the NREL Computational Science Center has an opening for a…',\n",
       " ' As a data scientist at Vertafore, you will be responsible for finding signals in complex and industry-unique data sets, developing innovative data science…',\n",
       " ' MS or BS in Computer Science, Applied Statistics, Engineering, Science or other quantitative discipline with specialization and experience in Artificial…',\n",
       " ' The experience in the design of data storage and data transformation processes to leverage and analyze complex data relationships.',\n",
       " ' As a data scientist at Vertafore, you will be responsible for finding signals in complex and industry-unique data sets, developing innovative data science…',\n",
       " ' 3+ years of experience as a data analyst or data scientist. Ability to manipulate and exploit data from structured and unstructured data sources.',\n",
       " ' Could pass ad-hoc technical and whiteboard test given various data ETL and other patterns of real-time, large data, data cleanup, etc. scenarios.',\n",
       " ' Computer Science fundamentals in data structures. Computer Science fundamentals in object-oriented design. Computer Science fundamentals in algorithm design,…',\n",
       " ' Applicants must be well versed in building and refining neural networks, developing machine learning models, application of cloud-based computing and data…',\n",
       " ' Experience with data science workflow, from data cleaning and EDA, to feature engineering and model building, on real-world business datasets.',\n",
       " ' The Principal Data Science Engineer will focus on database development and integration, acting as a data creator and curator to support the data consumers.',\n",
       " ' + Experience with modern data mining techniques and technologies e.g. information retrieval, text analytics, with special emphasis on techniques at all levels…',\n",
       " ' Strong communication and data presentation skills. BS in computer science, engineering, or related technical/scientific field.',\n",
       " \" CitiusTech's data science approach is based on 3 focus areas: Model Development - Data pre-processing, data quality improvement and data mining for the…\",\n",
       " ' The Data Scientist proactively identifies meaningful insights by executing data discovery, exploratory data analysis, and iteratively developing predictive and…',\n",
       " ' As such, SolSpec is searching for a Data Engineer that is well-versed in application development, integration, and familiar with performance optimization.',\n",
       " ' Our robots have run thousands of miles in factories and warehouses providing large amounts of data used for training and validation.',\n",
       " ' Become familiar with and employ industry-leading data standards, striving for findable, accessible, interoperable, and reusable data.',\n",
       " ' Bachelor’s Degree in finance, analytics, data science or a related field of study. Database Technology: Competently and independently navigate relational data…',\n",
       " ' Great communication skills - someone who is passionate about evangelizing the value of advanced data science capabilities.',\n",
       " ' Supervise and direct Technical Team staff on shift and monitor performance of assigned responsibilities. Perform and/or direct the performance of all Technical…',\n",
       " ' The Field Operations & Network Implementation data science team identifies operational improvement opportunities to reduce costs and improve customer experience…',\n",
       " ' Proactively perform data exploration on user behavior and website performance to discover future testing opportunities.',\n",
       " ' University bachelor’s degree in data science, data analysis, statistics, applied mathematics, computer science, engineering, or any other related discipline;…']"
      ]
     },
     "execution_count": 29,
     "metadata": {},
     "output_type": "execute_result"
    }
   ],
   "source": [
    "def extract_summary_from_results(soup):\n",
    "    summary_list = []\n",
    "    for div in soup.find_all('div', attrs={'class': 'row'}):\n",
    "        summary_div = div.find('div', attrs={'class': 'summary'})\n",
    "        summary_list_temp = str()\n",
    "        for li in summary_div.find_all('li'):\n",
    "            summary_list_temp += f' {li.text.strip()}'\n",
    "        summary_list.ap pend(summary_list_temp)\n",
    "    return summary_list"
   ]
  },
  {
   "cell_type": "code",
   "execution_count": null,
   "metadata": {},
   "outputs": [],
   "source": []
  }
 ],
 "metadata": {
  "kernelspec": {
   "display_name": "Python 3",
   "language": "python",
   "name": "python3"
  },
  "language_info": {
   "codemirror_mode": {
    "name": "ipython",
    "version": 3
   },
   "file_extension": ".py",
   "mimetype": "text/x-python",
   "name": "python",
   "nbconvert_exporter": "python",
   "pygments_lexer": "ipython3",
   "version": "3.7.4"
  }
 },
 "nbformat": 4,
 "nbformat_minor": 2
}
