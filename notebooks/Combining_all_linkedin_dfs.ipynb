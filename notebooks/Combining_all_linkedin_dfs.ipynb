{
 "cells": [
  {
   "cell_type": "code",
   "execution_count": 1,
   "metadata": {},
   "outputs": [],
   "source": [
    "import pandas as pd\n"
   ]
  },
  {
   "cell_type": "code",
   "execution_count": 2,
   "metadata": {},
   "outputs": [],
   "source": [
    "df_CA = pd.read_csv('../Datasets/df_linkedin_California.csv')\n",
    "df_CO = pd.read_csv('../Datasets/df_linkedin_Colorado.csv')\n",
    "df_FL = pd.read_csv('../Datasets/df_linkedin_Florida.csv')\n",
    "df_NY = pd.read_csv('../Datasets/df_linkedin_New%20york.csv')\n",
    "df_UT = pd.read_csv('../Datasets/df_linkedin_Utah.csv')\n",
    "df_WA = pd.read_csv('../Datasets/df_linkedin_Washington.csv')"
   ]
  },
  {
   "cell_type": "code",
   "execution_count": 3,
   "metadata": {},
   "outputs": [
    {
     "data": {
      "text/plain": [
       "(3150, 6)"
      ]
     },
     "execution_count": 3,
     "metadata": {},
     "output_type": "execute_result"
    }
   ],
   "source": [
    "df_all = pd.concat((df_CO, df_CA, df_NY, df_WA, df_UT, df_FL))\n",
    "df_all.shape"
   ]
  },
  {
   "cell_type": "code",
   "execution_count": 4,
   "metadata": {},
   "outputs": [],
   "source": [
    "df_all.to_csv('../Datasets/df_all_linkedin.csv')"
   ]
  },
  {
   "cell_type": "code",
   "execution_count": null,
   "metadata": {},
   "outputs": [],
   "source": []
  }
 ],
 "metadata": {
  "kernelspec": {
   "display_name": "Python 3",
   "language": "python",
   "name": "python3"
  },
  "language_info": {
   "codemirror_mode": {
    "name": "ipython",
    "version": 3
   },
   "file_extension": ".py",
   "mimetype": "text/x-python",
   "name": "python",
   "nbconvert_exporter": "python",
   "pygments_lexer": "ipython3",
   "version": "3.7.4"
  }
 },
 "nbformat": 4,
 "nbformat_minor": 2
}
